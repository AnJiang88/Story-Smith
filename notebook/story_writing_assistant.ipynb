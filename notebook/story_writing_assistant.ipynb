{
 "cells": [
  {
   "cell_type": "markdown",
   "id": "5d4af1a9-a7d7-41a4-bc13-6f72a0a89fb1",
   "metadata": {},
   "source": [
    "### Set up"
   ]
  },
  {
   "cell_type": "code",
   "execution_count": 1,
   "id": "7205bd90-5fca-4843-8fbf-f2619936dc3e",
   "metadata": {
    "tags": []
   },
   "outputs": [],
   "source": [
    "from langchain.llms import OpenAI\n",
    "from langchain.prompts import PromptTemplate\n",
    "from langchain.chains import LLMChain\n",
    "from langchain.chat_models import ChatOpenAI"
   ]
  },
  {
   "cell_type": "code",
   "execution_count": 2,
   "id": "3527b684-76c5-4519-94fb-e4dfb1f47ece",
   "metadata": {
    "tags": []
   },
   "outputs": [],
   "source": [
    "import os\n",
    "from dotenv import load_dotenv\n",
    "load_dotenv()  # take environment variables from .env.\n",
    "\n",
    "os.environ['OPENAI_API_KEY'] = os.getenv(\"OPENAI_API_KEY\")"
   ]
  },
  {
   "cell_type": "code",
   "execution_count": 3,
   "id": "a844171a-2a3e-4267-92be-c4de440733df",
   "metadata": {},
   "outputs": [],
   "source": [
    "llm_generate_writing_assignment = OpenAI(model_name=\"gpt-3.5-turbo-instruct\", temperature=0.8)\n",
    "llm_story_emulator = OpenAI(model_name=\"gpt-3.5-turbo-instruct\", temperature=0.7)\n",
    "llm = OpenAI(model_name=\"gpt-3.5-turbo-instruct\", temperature=0.8)\n",
    "chat = ChatOpenAI(model_name=\"gpt-3.5-turbo\", temperature=0.8)"
   ]
  },
  {
   "cell_type": "markdown",
   "id": "df53bde9-1b0a-43f3-9fe8-fca31cdeb928",
   "metadata": {},
   "source": [
    "### Generate writing assignment"
   ]
  },
  {
   "cell_type": "code",
   "execution_count": 4,
   "id": "7928e063-2171-4363-a105-c89a3f80b903",
   "metadata": {},
   "outputs": [
    {
     "name": "stdout",
     "output_type": "stream",
     "text": [
      "\n",
      "\n",
      "Write a story about a group of friends who stumble upon a mysterious portal that leads to a parallel universe. \n"
     ]
    }
   ],
   "source": [
    "writing_assignment = llm_generate_writing_assignment('Give a prompt for a creative writing assignment')\n",
    "print(writing_assignment)"
   ]
  },
  {
   "cell_type": "markdown",
   "id": "754e76ea-00df-44e3-9315-5cfd1c4426f0",
   "metadata": {},
   "source": [
    "### Generate a draft"
   ]
  },
  {
   "cell_type": "code",
   "execution_count": 5,
   "id": "0a078e0d-e855-4c80-8774-f8fa10b14dd8",
   "metadata": {},
   "outputs": [
    {
     "name": "stdout",
     "output_type": "stream",
     "text": [
      "\n",
      "\n",
      "It was a typical summer day for a group of four friends – Alex, Sarah, Jack, and Lily. They had decided to go on a hike in the nearby woods, hoping to find a new adventure. As they wandered deeper into the forest, they stumbled upon a strange-looking rock formation. Curiosity getting the best of them, they approached the rocks and noticed a shimmering light coming from behind them.\n",
      "\n",
      "Without hesitation, they climbed over the rocks and were amazed to find a mysterious portal on the other side. The portal seemed to be emitting a soft humming sound and pulsating with a blue light. Excited and intrigued, the friends decided to step through the portal and see where it led them. As soon as they stepped through, they found themselves in a lush and vibrant forest unlike anything they had ever seen before. They couldn't believe their eyes – they had stumbled upon a parallel universe. Little did they know, this was just the beginning of their extraordinary adventure.\n"
     ]
    }
   ],
   "source": [
    "draft = llm_story_emulator(writing_assignment + \"with only 3 paragraphs\")\n",
    "print(draft)"
   ]
  },
  {
   "cell_type": "markdown",
   "id": "5f3fad96-58f8-4259-b358-41907b6ad014",
   "metadata": {},
   "source": [
    "### Construct the prompt and get feedback"
   ]
  },
  {
   "cell_type": "markdown",
   "id": "0587e5be-b5de-4fa2-b5f0-100d4676091a",
   "metadata": {},
   "source": [
    "#### Use GPT-3.5-turbo-instruct model"
   ]
  },
  {
   "cell_type": "code",
   "execution_count": 6,
   "id": "e366303a-ba78-44dc-a0fe-0a31baa59841",
   "metadata": {},
   "outputs": [
    {
     "name": "stdout",
     "output_type": "stream",
     "text": [
      "\n",
      "Great start to your story! You have set up the scene and introduced the main characters in a clear and concise manner. However, there are a few areas where you can improve and build upon your writing.\n",
      "\n",
      "Firstly, consider adding more sensory details to your description of the mysterious portal. How did it feel to touch the rocks? What did the shimmering light look like? How did the humming sound make the friends feel? These details will help the reader to fully immerse themselves in the world you are creating and enhance the sense of curiosity and wonder that the characters are experiencing.\n",
      "\n",
      "You can also expand on the characters' reactions to the portal and their decision to step through it. How did they feel? Were they scared, excited, or hesitant? This will help the reader to better understand the characters' motivations and emotions in this pivotal moment.\n",
      "\n",
      "Additionally, it would be beneficial to provide more context about the friends' relationship and their personalities. This will help the reader to connect with them and root for them as they embark on their adventure. You can do this through dialogue, actions, or even through their thoughts.\n",
      "\n",
      "Furthermore, as the story progresses, consider adding more obstacles and challenges for the friends to face in this parallel universe. This will add tension and keep the reader engaged\n"
     ]
    }
   ],
   "source": [
    "prompt = f\"\"\"Imagine you are a writing coach collaborating with a student on a creative project: {writing_assignment}.\n",
    "The student has started a story, essay, or any piece of writing, and they need your guidance to enhance their work.\n",
    "Provide constructive feedback, suggestions, and ideas to help the student improve their writing.\n",
    "Focus on areas such as clarity, organization, creativity, and language use.\n",
    "Point out strengths in their writing and offer specific advice on how they can build on those strengths.\n",
    "Encourage them to explore new perspectives, expand on their ideas, and refine their arguments.\n",
    "Your goal is to empower the student to develop their writing skills by providing thoughtful and insightful guidance.\n",
    "Be supportive, encouraging, and specific in your feedback, helping the student to become a better writer.\n",
    "Here is the student's draft: {draft}\n",
    "\"\"\"\n",
    "\n",
    "print(llm(prompt))"
   ]
  },
  {
   "cell_type": "markdown",
   "id": "0e9c8287-ce8a-4ad7-826c-f9c3fe0791bf",
   "metadata": {},
   "source": [
    "#### Use GPT-3.5-turbo (chat) model"
   ]
  },
  {
   "cell_type": "code",
   "execution_count": 11,
   "id": "192460e3-63b3-477e-97cf-843c681089cc",
   "metadata": {},
   "outputs": [
    {
     "name": "stdout",
     "output_type": "stream",
     "text": [
      "Great start to your story! You've set up the scene and introduced the main conflict - the discovery of a mysterious portal. Here are some suggestions to enhance your writing and further develop your story:\n",
      "\n",
      "1. Begin with a captivating hook: While your opening sentence is good, you can make it even more attention-grabbing. Consider starting with an action or an intriguing detail to immediately engage the reader. For example, \"As the summer sun beat down on their backs, the group of friends ventured deep into the unknown woods, craving an adventure that would forever change their lives.\"\n",
      "\n",
      "2. Build anticipation and curiosity: After the friends stumble upon the rocks, heighten the suspense by describing their thoughts and emotions in more detail. How do they feel as they notice the shimmering light? What thoughts are racing through their minds? This will make the reader feel more connected to the characters and eager to know what happens next.\n",
      "\n",
      "3. Show, don't tell: When you mention that the friends were amazed or excited, try to bring those emotions to life through descriptive language and actions. For instance, instead of saying \"they were amazed,\" you could write, \"Their jaws dropped in awe as their eyes widened, taking in the breathtaking sight before them.\" This will make the reader feel the characters' emotions and immerse them in the story.\n",
      "\n",
      "4. Develop the parallel universe: As the friends step through the portal, take the opportunity to vividly describe the differences they observe in the new world. What makes this universe unique? Is the vegetation unlike anything on Earth? Are there strange creatures or unusual phenomena? By painting a vivid picture of the parallel universe, you can create a sense of wonder and make the story more immersive.\n",
      "\n",
      "5. Expand on the extraordinary adventure: You mention that their discovery is just the beginning of their adventure. Elaborate on what challenges or obstacles they might face in the parallel universe. Will they encounter friendly or hostile beings? Will they encounter any conflicts within their group? By hinting at future conflicts and challenges, you create suspense and keep the reader engaged.\n",
      "\n",
      "Overall, your story has a strong foundation. By incorporating these suggestions, you can make it even more captivating and engaging. Keep up the great work, and I look forward to reading the rest of your story!\n"
     ]
    }
   ],
   "source": [
    "from langchain.schema import AIMessage, HumanMessage, SystemMessage\n",
    "messages = [\n",
    "    SystemMessage(\n",
    "        content=\"\"\"Imagine you are a writing coach collaborating with a student on a creative project.\n",
    "        The student has started a story, essay, or any piece of writing, and they need your guidance to enhance their work.\n",
    "        Provide constructive feedback, suggestions, and ideas to help the student improve their writing.\n",
    "        Focus on areas such as clarity, organization, creativity, and language use.\n",
    "        Point out strengths in their writing and offer specific advice on how they can build on those strengths.\n",
    "        Encourage them to explore new perspectives, expand on their ideas, and refine their arguments.\n",
    "        Your goal is to empower the student to develop their writing skills by providing thoughtful and insightful guidance.\n",
    "        Be supportive, encouraging, and specific in your feedback, helping the student to become a better writer.\n",
    "        \"\"\"\n",
    "    ),\n",
    "    HumanMessage(\n",
    "        content=f\"\"\"Hi, here is the prompt that I'm writing about: {writing_assignment}\n",
    "        Here is what I've written so far. {draft}\n",
    "        Please assist me in my writing process without writing on behalf of me.\n",
    "        \"\"\"\n",
    "    ),\n",
    "]\n",
    "print(chat(messages).content)"
   ]
  },
  {
   "cell_type": "code",
   "execution_count": null,
   "id": "099bd928-eee7-43f7-9ef4-dd1b35921507",
   "metadata": {},
   "outputs": [],
   "source": []
  },
  {
   "cell_type": "markdown",
   "id": "4a961701-4cff-4f43-9c47-33a79988aa21",
   "metadata": {},
   "source": [
    "### Prepare the rubric"
   ]
  },
  {
   "cell_type": "code",
   "execution_count": 9,
   "id": "889479ab-b873-4650-81a0-2d194c1a2861",
   "metadata": {},
   "outputs": [],
   "source": [
    "import numpy as np\n",
    "from langchain.text_splitter import RecursiveCharacterTextSplitter\n",
    "from langchain.document_loaders import PyPDFDirectoryLoader\n",
    "\n",
    "loader = PyPDFDirectoryLoader(\"\")\n",
    "\n",
    "documents = loader.load()"
   ]
  },
  {
   "cell_type": "code",
   "execution_count": 10,
   "id": "fa1d976b-c2be-4945-b96d-9deabf8dd9c7",
   "metadata": {},
   "outputs": [
    {
     "name": "stdout",
     "output_type": "stream",
     "text": [
      "Average length among 1 documents loaded is 4970 characters.\n"
     ]
    }
   ],
   "source": [
    "avg_doc_length = lambda documents: sum([len(doc.page_content) for doc in documents])//len(documents)\n",
    "print(f'Average length among {len(documents)} documents loaded is {avg_doc_length(documents)} characters.')"
   ]
  },
  {
   "cell_type": "markdown",
   "id": "dfc68582-22a7-4cdd-b3ae-9edbbcd211e3",
   "metadata": {},
   "source": [
    "Mannally extract key component (descriptors) from Narrative_rubric.pdf and saved them in a text file."
   ]
  },
  {
   "cell_type": "code",
   "execution_count": 11,
   "id": "dba78325-0d6b-4f65-a2a9-f06c4b5220b9",
   "metadata": {},
   "outputs": [],
   "source": [
    "with open(\"rubric.txt\") as file:\n",
    "    rubric = file.read()"
   ]
  },
  {
   "cell_type": "code",
   "execution_count": 12,
   "id": "10f4bd06-5673-48be-b8ba-a49c4c05f67c",
   "metadata": {},
   "outputs": [
    {
     "name": "stdout",
     "output_type": "stream",
     "text": [
      "Descriptors:\n",
      "\n",
      "-Ideas\n",
      "Strong and creative story idea; specific, descriptive details; use of plot, setting, characters, conflict, and dialogue \n",
      "\n",
      "-Organization\n",
      "Unified structure, clear direction, and clever transitions \n",
      "\n",
      "-Word Choice\n",
      "Precise, rich language that expresses ideas and engages the reader\n",
      "\n",
      "-Sentence Fluency and Voice\n",
      "Rhythmic and flowing language, varied sentences, and unique perspective with ideas and details to appeal to the audience\n",
      "\n",
      "-Conventions\n",
      "Mechanical and grammatical accuracy\n"
     ]
    }
   ],
   "source": [
    "print(rubric)"
   ]
  },
  {
   "cell_type": "code",
   "execution_count": 13,
   "id": "dd9edc5e-877b-4bb6-8aeb-cd413933b53b",
   "metadata": {},
   "outputs": [
    {
     "name": "stdout",
     "output_type": "stream",
     "text": [
      "\n",
      "Overall, your story idea is strong and creative. The concept of humans being able to communicate with animals is very intriguing. However, in order to make the story more engaging, try to provide more specific and descriptive details. This will help readers to visualize the world you are creating.\n",
      "\n",
      "To improve the organization of your story, consider adding a clear conflict or obstacle that the characters must face. This will create a more unified structure and provide a clear direction for the plot. Also, try to use clever transitions between scenes or events to keep the story flowing smoothly.\n",
      "\n",
      "In terms of word choice, use precise and rich language that will express your ideas effectively and engage the reader. You can also try to incorporate dialogue between characters to add depth to the story.\n",
      "\n",
      "For sentence fluency and voice, focus on creating a rhythmic and flowing language. Vary your sentence structure and use a unique perspective to appeal to your audience.\n",
      "\n",
      "Lastly, pay attention to conventions such as grammar and mechanics. This will ensure the accuracy of your writing and help the story to read smoothly for the reader.\n",
      "\n",
      "Overall, your story has a lot of potential and with some improvements in these areas, it has the potential to be a captivating and meaningful story. Keep up the good work!\n"
     ]
    }
   ],
   "source": [
    "prompt = f\"\"\"You are a helpful assistant for a student writing a story based on the following writing assignment: {writing_assignment}.\n",
    "             Use concise expression to provide constructive pointers and suggestions to help the student improve their writing.\n",
    "             Focus on the descriptors in the following rubric and reference the rubric: {rubric}. \n",
    "             The following is the student's writing: {story}\n",
    "             Avoid writing for the student.\n",
    "             \"\"\"\n",
    "\n",
    "print(llm(prompt))"
   ]
  },
  {
   "cell_type": "code",
   "execution_count": null,
   "id": "4e031670-3e55-4504-b1b3-fa171826e66d",
   "metadata": {},
   "outputs": [],
   "source": []
  },
  {
   "cell_type": "code",
   "execution_count": null,
   "id": "eea10a04-d1f7-4e50-ae2a-c6f010a85572",
   "metadata": {},
   "outputs": [],
   "source": []
  }
 ],
 "metadata": {
  "kernelspec": {
   "display_name": "storysmith",
   "language": "python",
   "name": "storysmith"
  },
  "language_info": {
   "codemirror_mode": {
    "name": "ipython",
    "version": 3
   },
   "file_extension": ".py",
   "mimetype": "text/x-python",
   "name": "python",
   "nbconvert_exporter": "python",
   "pygments_lexer": "ipython3",
   "version": "3.11.5"
  }
 },
 "nbformat": 4,
 "nbformat_minor": 5
}
