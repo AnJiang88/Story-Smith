{
 "cells": [
  {
   "cell_type": "markdown",
   "id": "5d4af1a9-a7d7-41a4-bc13-6f72a0a89fb1",
   "metadata": {},
   "source": [
    "### Set up"
   ]
  },
  {
   "cell_type": "code",
   "execution_count": 1,
   "id": "7205bd90-5fca-4843-8fbf-f2619936dc3e",
   "metadata": {
    "tags": []
   },
   "outputs": [],
   "source": [
    "from langchain.llms import OpenAI\n",
    "from langchain.prompts import PromptTemplate\n",
    "from langchain.chains import LLMChain\n",
    "from langchain.chat_models import ChatOpenAI"
   ]
  },
  {
   "cell_type": "code",
   "execution_count": 2,
   "id": "3527b684-76c5-4519-94fb-e4dfb1f47ece",
   "metadata": {
    "tags": []
   },
   "outputs": [],
   "source": [
    "import os\n",
    "from dotenv import load_dotenv\n",
    "load_dotenv()  # take environment variables from .env.\n",
    "\n",
    "os.environ['OPENAI_API_KEY'] = os.getenv(\"OPENAI_API_KEY\")"
   ]
  },
  {
   "cell_type": "code",
   "execution_count": 3,
   "id": "a844171a-2a3e-4267-92be-c4de440733df",
   "metadata": {},
   "outputs": [],
   "source": [
    "llm_story_emulator = OpenAI(model_name=\"gpt-3.5-turbo-instruct\", temperature=0.8)\n",
    "llm = OpenAI(model_name=\"gpt-3.5-turbo-instruct\", temperature=0.8)\n",
    "chat = ChatOpenAI(model_name=\"gpt-3.5-turbo\", temperature=0.8)"
   ]
  },
  {
   "cell_type": "markdown",
   "id": "754e76ea-00df-44e3-9315-5cfd1c4426f0",
   "metadata": {},
   "source": [
    "### Generate an example of student's writing"
   ]
  },
  {
   "cell_type": "code",
   "execution_count": 4,
   "id": "ee97b8f1-40d9-4a5f-a16b-1f9228cd8305",
   "metadata": {},
   "outputs": [],
   "source": [
    "writing_assignment = \"Write a story about a world where humans have the ability to communicate with animals.\""
   ]
  },
  {
   "cell_type": "code",
   "execution_count": 6,
   "id": "0a078e0d-e855-4c80-8774-f8fa10b14dd8",
   "metadata": {},
   "outputs": [
    {
     "name": "stdout",
     "output_type": "stream",
     "text": [
      "\n",
      "\n",
      "In a world where humans have the ability to communicate with animals, life was vastly different from what we know today. It all started when a young girl named Lily woke up one morning with the ability to understand her pet dog, Max. At first, she thought she was dreaming, but as the day went on, she realized it was real. She could not only understand what Max was saying, but she could also respond to him in words.\n",
      "\n",
      "As word of Lily's newfound ability spread, scientists and researchers were quick to study and analyze this phenomenon. They discovered that this ability was not limited to just Lily, but a small percentage of the population also had the same ability. This opened up a whole new world of communication between humans and animals. People could now converse with their pets, understand their needs and feelings, and even ask for their opinions. This led to a deeper bond between humans and animals, and soon, they were seen as equal beings.\n",
      "\n",
      "With this newfound communication, humans and animals started working together to solve problems and create a better world. Animals were no longer seen as mere creatures to be used for human benefit, but as intelligent beings with their own thoughts and feelings. They could now express their concerns about deforestation, pollution, and other environmental issues, and\n"
     ]
    }
   ],
   "source": [
    "draft = llm_story_emulator(writing_assignment + \"with only 3 paragraphs\")\n",
    "print(draft)"
   ]
  },
  {
   "cell_type": "markdown",
   "id": "5f3fad96-58f8-4259-b358-41907b6ad014",
   "metadata": {},
   "source": [
    "### Construct the prompt and get feedback"
   ]
  },
  {
   "cell_type": "code",
   "execution_count": 7,
   "id": "e366303a-ba78-44dc-a0fe-0a31baa59841",
   "metadata": {},
   "outputs": [
    {
     "name": "stdout",
     "output_type": "stream",
     "text": [
      " \n",
      "- Start with a strong opening sentence that captures the reader's attention and sets the tone for the story.\n",
      "- Instead of just mentioning Lily, consider giving her a more relatable name that can help readers connect with her character.\n",
      "- Add specific details about Lily's reaction to discovering her ability, such as her thoughts and feelings, to make the story more engaging.\n",
      "- Consider including a specific example of how Lily and Max communicate with each other to show the depth of their bond.\n",
      "- Use more descriptive language to bring the story to life and make it more vivid for the reader.\n",
      "- Show the impact of this newfound ability on the world, such as how it changes the relationship between humans and animals.\n",
      "- Use transitional phrases to smoothly move from one idea or event to the next.\n",
      "- End the story with a strong conclusion that ties everything together and leaves the reader with a lasting impression.\n"
     ]
    }
   ],
   "source": [
    "prompt = f\"\"\"You are a helpful assistant for a student writing a story based on the following writing assignment: {writing_assignment}.\n",
    "             Use concise expression to provide constructive pointers and suggestions to help the student improve their writing.\n",
    "             Focus on creativity, specific details, structure, and clarity. Avoid writing full sentences.\n",
    "             Student's writing: {draft}\n",
    "             \"\"\"\n",
    "\n",
    "print(llm(prompt))"
   ]
  },
  {
   "cell_type": "markdown",
   "id": "4a961701-4cff-4f43-9c47-33a79988aa21",
   "metadata": {},
   "source": [
    "### Prepare the rubric"
   ]
  },
  {
   "cell_type": "code",
   "execution_count": 9,
   "id": "889479ab-b873-4650-81a0-2d194c1a2861",
   "metadata": {},
   "outputs": [],
   "source": [
    "import numpy as np\n",
    "from langchain.text_splitter import RecursiveCharacterTextSplitter\n",
    "from langchain.document_loaders import PyPDFDirectoryLoader\n",
    "\n",
    "loader = PyPDFDirectoryLoader(\"\")\n",
    "\n",
    "documents = loader.load()"
   ]
  },
  {
   "cell_type": "code",
   "execution_count": 10,
   "id": "fa1d976b-c2be-4945-b96d-9deabf8dd9c7",
   "metadata": {},
   "outputs": [
    {
     "name": "stdout",
     "output_type": "stream",
     "text": [
      "Average length among 1 documents loaded is 4970 characters.\n"
     ]
    }
   ],
   "source": [
    "avg_doc_length = lambda documents: sum([len(doc.page_content) for doc in documents])//len(documents)\n",
    "print(f'Average length among {len(documents)} documents loaded is {avg_doc_length(documents)} characters.')"
   ]
  },
  {
   "cell_type": "markdown",
   "id": "dfc68582-22a7-4cdd-b3ae-9edbbcd211e3",
   "metadata": {},
   "source": [
    "Mannally extract key component (descriptors) from Narrative_rubric.pdf and saved them in a text file."
   ]
  },
  {
   "cell_type": "code",
   "execution_count": 11,
   "id": "dba78325-0d6b-4f65-a2a9-f06c4b5220b9",
   "metadata": {},
   "outputs": [],
   "source": [
    "with open(\"rubric.txt\") as file:\n",
    "    rubric = file.read()"
   ]
  },
  {
   "cell_type": "code",
   "execution_count": 12,
   "id": "10f4bd06-5673-48be-b8ba-a49c4c05f67c",
   "metadata": {},
   "outputs": [
    {
     "name": "stdout",
     "output_type": "stream",
     "text": [
      "Descriptors:\n",
      "\n",
      "-Ideas\n",
      "Strong and creative story idea; specific, descriptive details; use of plot, setting, characters, conflict, and dialogue \n",
      "\n",
      "-Organization\n",
      "Unified structure, clear direction, and clever transitions \n",
      "\n",
      "-Word Choice\n",
      "Precise, rich language that expresses ideas and engages the reader\n",
      "\n",
      "-Sentence Fluency and Voice\n",
      "Rhythmic and flowing language, varied sentences, and unique perspective with ideas and details to appeal to the audience\n",
      "\n",
      "-Conventions\n",
      "Mechanical and grammatical accuracy\n"
     ]
    }
   ],
   "source": [
    "print(rubric)"
   ]
  },
  {
   "cell_type": "code",
   "execution_count": 13,
   "id": "dd9edc5e-877b-4bb6-8aeb-cd413933b53b",
   "metadata": {},
   "outputs": [
    {
     "name": "stdout",
     "output_type": "stream",
     "text": [
      "\n",
      "Overall, your story idea is strong and creative. The concept of humans being able to communicate with animals is very intriguing. However, in order to make the story more engaging, try to provide more specific and descriptive details. This will help readers to visualize the world you are creating.\n",
      "\n",
      "To improve the organization of your story, consider adding a clear conflict or obstacle that the characters must face. This will create a more unified structure and provide a clear direction for the plot. Also, try to use clever transitions between scenes or events to keep the story flowing smoothly.\n",
      "\n",
      "In terms of word choice, use precise and rich language that will express your ideas effectively and engage the reader. You can also try to incorporate dialogue between characters to add depth to the story.\n",
      "\n",
      "For sentence fluency and voice, focus on creating a rhythmic and flowing language. Vary your sentence structure and use a unique perspective to appeal to your audience.\n",
      "\n",
      "Lastly, pay attention to conventions such as grammar and mechanics. This will ensure the accuracy of your writing and help the story to read smoothly for the reader.\n",
      "\n",
      "Overall, your story has a lot of potential and with some improvements in these areas, it has the potential to be a captivating and meaningful story. Keep up the good work!\n"
     ]
    }
   ],
   "source": [
    "prompt = f\"\"\"You are a helpful assistant for a student writing a story based on the following writing assignment: {writing_assignment}.\n",
    "             Use concise expression to provide constructive pointers and suggestions to help the student improve their writing.\n",
    "             Focus on the descriptors in the following rubric and reference the rubric: {rubric}. \n",
    "             The following is the student's writing: {story}\n",
    "             Avoid writing for the student.\n",
    "             \"\"\"\n",
    "\n",
    "print(llm(prompt))"
   ]
  },
  {
   "cell_type": "code",
   "execution_count": null,
   "id": "4e031670-3e55-4504-b1b3-fa171826e66d",
   "metadata": {},
   "outputs": [],
   "source": []
  },
  {
   "cell_type": "code",
   "execution_count": null,
   "id": "eea10a04-d1f7-4e50-ae2a-c6f010a85572",
   "metadata": {},
   "outputs": [],
   "source": []
  }
 ],
 "metadata": {
  "kernelspec": {
   "display_name": "storysmith",
   "language": "python",
   "name": "storysmith"
  },
  "language_info": {
   "codemirror_mode": {
    "name": "ipython",
    "version": 3
   },
   "file_extension": ".py",
   "mimetype": "text/x-python",
   "name": "python",
   "nbconvert_exporter": "python",
   "pygments_lexer": "ipython3",
   "version": "3.11.5"
  }
 },
 "nbformat": 4,
 "nbformat_minor": 5
}
