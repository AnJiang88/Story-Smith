{
 "cells": [
  {
   "cell_type": "markdown",
   "id": "5d4af1a9-a7d7-41a4-bc13-6f72a0a89fb1",
   "metadata": {},
   "source": [
    "### Set up"
   ]
  },
  {
   "cell_type": "code",
   "execution_count": 1,
   "id": "7205bd90-5fca-4843-8fbf-f2619936dc3e",
   "metadata": {
    "tags": []
   },
   "outputs": [],
   "source": [
    "import os\n",
    "\n",
    "from langchain.llms import OpenAI\n",
    "from langchain.prompts import PromptTemplate\n",
    "from langchain.chains import LLMChain\n",
    "from langchain.chat_models import ChatOpenAI"
   ]
  },
  {
   "cell_type": "code",
   "execution_count": 2,
   "id": "3527b684-76c5-4519-94fb-e4dfb1f47ece",
   "metadata": {
    "tags": []
   },
   "outputs": [],
   "source": [
    "from dotenv import load_dotenv\n",
    "load_dotenv()  # take environment variables from .env.\n",
    "\n",
    "os.environ['OPENAI_API_KEY'] = os.getenv(\"OPENAI_API_KEY\")"
   ]
  },
  {
   "cell_type": "code",
   "execution_count": 40,
   "id": "a844171a-2a3e-4267-92be-c4de440733df",
   "metadata": {},
   "outputs": [],
   "source": [
    "llm_story_emulator = OpenAI(model_name=\"gpt-3.5-turbo-instruct\", temperature=0.8, max_tokens=200)\n",
    "llm = OpenAI(model_name=\"gpt-3.5-turbo-instruct\", temperature=0.8)\n",
    "chat = ChatOpenAI(model_name=\"gpt-3.5-turbo\", temperature=0.8)"
   ]
  },
  {
   "cell_type": "markdown",
   "id": "754e76ea-00df-44e3-9315-5cfd1c4426f0",
   "metadata": {},
   "source": [
    "### Generate an example of student's writing"
   ]
  },
  {
   "cell_type": "code",
   "execution_count": 41,
   "id": "ee97b8f1-40d9-4a5f-a16b-1f9228cd8305",
   "metadata": {},
   "outputs": [],
   "source": [
    "writing_assignment = \"Write a story about a character who discovers a hidden world within their own mind, filled with their deepest desires and fears.\""
   ]
  },
  {
   "cell_type": "code",
   "execution_count": 42,
   "id": "0a078e0d-e855-4c80-8774-f8fa10b14dd8",
   "metadata": {},
   "outputs": [
    {
     "name": "stdout",
     "output_type": "stream",
     "text": [
      "\n",
      "\n",
      "Alice was always a curious and imaginative person. As a child, she would often get lost in her own thoughts, creating fantastic worlds and adventures in her mind. As she grew older, Alice's vivid imagination became more subdued, and she found herself getting caught up in the stresses and routines of everyday life.\n",
      "\n",
      "But one day, while taking a walk in the park, Alice stumbled upon a hidden door in a tree trunk. She couldn't resist her curiosity and pushed the door open, expecting to find a squirrel's nest or some other small creature's hiding spot. However, to her surprise, she found herself falling through a dark tunnel and landing in a new world.\n",
      "\n",
      "As she looked around, Alice realized that she was in a realm unlike any she had ever seen before. The sky was a deep purple, and the trees were a vibrant shade of blue. The grass was a bright green, and the flowers were all different colors, some of which she had never seen before. Alice's heart was\n"
     ]
    }
   ],
   "source": [
    "story = llm_story_emulator(writing_assignment)\n",
    "print(story)"
   ]
  },
  {
   "cell_type": "markdown",
   "id": "5f3fad96-58f8-4259-b358-41907b6ad014",
   "metadata": {},
   "source": [
    "### Construct the prompt and get feedback"
   ]
  },
  {
   "cell_type": "code",
   "execution_count": 45,
   "id": "e366303a-ba78-44dc-a0fe-0a31baa59841",
   "metadata": {},
   "outputs": [
    {
     "name": "stdout",
     "output_type": "stream",
     "text": [
      "\n",
      "- Consider starting the story with a more attention-grabbing sentence to hook the reader's interest.\n",
      "- Use more descriptive language to paint a vivid picture of Alice's imaginative mind as a child.\n",
      "- When describing the hidden door, use sensory details to make the reader feel as though they are also discovering it for the first time.\n",
      "- Instead of saying \"to her surprise,\" show Alice's reaction to falling through the dark tunnel and landing in the new world.\n",
      "- Use more specific and unique descriptions of the new world that Alice discovers.\n",
      "- Show how Alice's heart is feeling, rather than just stating it.\n",
      "- Consider adding in what Alice's initial thoughts and emotions are when she first realizes she has entered a new world within her own mind.\n",
      "- Use more active verbs and avoid passive phrasing, such as \"Alice was always a curious and imaginative person\". Instead, show her curiosity and imagination in action.\n",
      "- Consider adding in more details about the stresses and routines of Alice's everyday life to create a stronger contrast with the new world she discovers.\n",
      "- End the story with a strong and impactful conclusion, highlighting the significance of Alice's discovery and how it changes her.\n"
     ]
    }
   ],
   "source": [
    "prompt = f\"\"\"You are a helpful assistant for a student writing a story based on the following writing assignment: {writing_assignment}.\n",
    "             Use concise expression to provide constructive pointers and suggestions to help the student improve their writing.\n",
    "             Focus on creativity, specific details, structure, and clarity. Avoid writing full sentences.\n",
    "             Student's writing: {story}\n",
    "             \"\"\"\n",
    "\n",
    "print(llm(prompt))"
   ]
  },
  {
   "cell_type": "code",
   "execution_count": 64,
   "id": "4b189e48-95e5-4dde-8b16-f3db448c4866",
   "metadata": {},
   "outputs": [],
   "source": [
    "import numpy as np\n",
    "from langchain.text_splitter import RecursiveCharacterTextSplitter\n",
    "from langchain.document_loaders import PyPDFDirectoryLoader\n",
    "\n",
    "loader = PyPDFDirectoryLoader(r\"C:\\Users\\an.jiang\\Projects\\StorySmithNotebook\\data\")\n",
    "\n",
    "documents = loader.load()\n",
    "\n",
    "# text_splitter = RecursiveCharacterTextSplitter(\n",
    "#     # Set a really small chunk size, just to show.\n",
    "#     chunk_size = 1000,\n",
    "#     chunk_overlap  = 100,\n",
    "# )\n",
    "\n",
    "# docs = text_splitter.split_documents(documents)"
   ]
  },
  {
   "cell_type": "code",
   "execution_count": 70,
   "id": "ca3760f8-f79c-4789-b2b8-1584431ba07f",
   "metadata": {},
   "outputs": [
    {
     "name": "stdout",
     "output_type": "stream",
     "text": [
      "Average length among 1 documents loaded is 4970 characters.\n"
     ]
    }
   ],
   "source": [
    "avg_doc_length = lambda documents: sum([len(doc.page_content) for doc in documents])//len(documents)\n",
    "print(f'Average length among {len(documents)} documents loaded is {avg_doc_length(documents)} characters.')"
   ]
  },
  {
   "cell_type": "code",
   "execution_count": null,
   "id": "068033f7-d160-4b09-8986-d1c76e2dcf5e",
   "metadata": {},
   "outputs": [],
   "source": []
  },
  {
   "cell_type": "code",
   "execution_count": null,
   "id": "000fe65a-846c-4afb-8fe9-536e60daa8e8",
   "metadata": {},
   "outputs": [],
   "source": []
  },
  {
   "cell_type": "code",
   "execution_count": null,
   "id": "b46e2242-f28e-493b-96d3-ff0c874a4b7d",
   "metadata": {},
   "outputs": [],
   "source": []
  },
  {
   "cell_type": "code",
   "execution_count": null,
   "id": "0c6006dc-9895-4ff8-9552-b6eac2a1a6a7",
   "metadata": {},
   "outputs": [],
   "source": []
  },
  {
   "cell_type": "code",
   "execution_count": null,
   "id": "21c17e71-9643-4355-bb92-985a0e4df9d1",
   "metadata": {},
   "outputs": [],
   "source": []
  },
  {
   "cell_type": "code",
   "execution_count": 12,
   "id": "a370ff05-0d1c-4e68-a936-0c936bc23784",
   "metadata": {
    "tags": []
   },
   "outputs": [],
   "source": [
    "writing_assignment = \"Write a story about a character who discovers a hidden world within their own mind, filled with their deepest desires and fears.\""
   ]
  },
  {
   "cell_type": "code",
   "execution_count": 13,
   "id": "bff77212-3e44-4924-b48f-c1399a4f7efe",
   "metadata": {
    "tags": []
   },
   "outputs": [
    {
     "name": "stdout",
     "output_type": "stream",
     "text": [
      "\n",
      "\n",
      "Once upon a time, there lived a young man named John. He was always a curious, adventurous soul, always looking for something new to\n"
     ]
    }
   ],
   "source": [
    "story = llm(writing_assignment)\n",
    "print(story)"
   ]
  },
  {
   "cell_type": "code",
   "execution_count": 14,
   "id": "4eb08432-448f-497d-85e6-add2f138e6d5",
   "metadata": {
    "tags": []
   },
   "outputs": [],
   "source": [
    "system_template = (\n",
    "        \"\"\"You are a helpful assistant for a student writing an essay.\n",
    "           Provide constructive pointers and suggestions to help the student improve their writing.\n",
    "           Focus on specific details, structure, and clarity. Avoid writing full sentences.\"\"\"\n",
    ")\n",
    "system_message_prompt = SystemMessagePromptTemplate.from_template(system_template)\n",
    "\n",
    "human_template = \"{text}\"\n",
    "human_message_prompt = HumanMessagePromptTemplate.from_template(human_template)"
   ]
  },
  {
   "cell_type": "code",
   "execution_count": 15,
   "id": "fccef892-968f-4314-9c1a-34434b653ab9",
   "metadata": {
    "tags": []
   },
   "outputs": [],
   "source": [
    "# system_template = (\n",
    "#     \"\"\"You are helping a student write a creative story based on the writing assignment between <assignment></assignment>.\n",
    "#         Do not write the story for them, only provide ideas and suggestions.\n",
    "        \n",
    "#         <assignment>\n",
    "#         {assignment}\n",
    "#         </assignment>\n",
    "        \n",
    "#     \"\"\"\n",
    "# )\n",
    "# system_message_prompt = SystemMessagePromptTemplate.from_template(system_template)\n",
    "\n",
    "# human_template = \"{text}\"\n",
    "# human_message_prompt = HumanMessagePromptTemplate.from_template(human_template)"
   ]
  },
  {
   "cell_type": "code",
   "execution_count": 16,
   "id": "eeaf3e56-bd4d-4ce9-b46a-3c65d6a6e761",
   "metadata": {
    "tags": []
   },
   "outputs": [],
   "source": [
    "chat_prompt = ChatPromptTemplate.from_messages(\n",
    "    [system_message_prompt, human_message_prompt]\n",
    ")\n",
    "\n",
    "# get a chat completion from the formatted messages\n",
    "feedback = chat(chat_prompt.format_prompt(text=story).to_messages())"
   ]
  },
  {
   "cell_type": "code",
   "execution_count": 17,
   "id": "f1ac9da6-45d0-4bd9-ac64-ffc612e18345",
   "metadata": {
    "tags": []
   },
   "outputs": [
    {
     "data": {
      "text/plain": [
       "[SystemMessage(content='You are a helpful assistant for a student writing an essay.\\n    Provide constructive pointers and suggestions to help the student improve their writing. \\n    Focus on specific details, structure, and clarity. Avoid writing full sentences.        \\n'),\n",
       " HumanMessage(content='\\n\\nOnce upon a time, there lived a young man named John. He was always a curious, adventurous soul, always looking for something new to')]"
      ]
     },
     "execution_count": 17,
     "metadata": {},
     "output_type": "execute_result"
    }
   ],
   "source": [
    "chat_prompt.format_prompt(assignment=writing_assignment, text=story).to_messages()"
   ]
  },
  {
   "cell_type": "code",
   "execution_count": 18,
   "id": "d3d0e52c-14f8-4e65-9ebc-5d2d213edc66",
   "metadata": {
    "tags": []
   },
   "outputs": [
    {
     "name": "stdout",
     "output_type": "stream",
     "text": [
      "explore. One day, as he was walking through the forest, he stumbled upon a hidden cave. Intrigued, he entered the cave, eager to uncover its secrets. Inside, he discovered a glowing crystal that emitted a mysterious aura. \n",
      "\n",
      "The crystal seemed to be calling out to him, urging him to touch it. John hesitated, unsure of what would happen if he did. But his curiosity got the better of him, and he reached out to touch the crystal. As soon as his fingers made contact, he felt a surge of energy flow through his body. \n",
      "\n",
      "Suddenly, John found himself transported to a different world. It was a land of enchantment and magic, unlike anything he had ever seen before. The sky was a vibrant shade of purple, and the plants and animals had a mystical glow to them. \n",
      "\n",
      "John soon realized that he had been granted incredible powers in this new world. He could control the elements and communicate with animals. With his newfound abilities, he set out on a quest to save the land from an evil sorcerer who was threatening to destroy it.\n",
      "\n",
      "Along his journey, John encountered various challenges and met interesting characters who helped him along the way. He faced dangerous creatures and had to make difficult decisions. Through it all, he learned valuable lessons about bravery, friendship, and the true meaning of heroism.\n",
      "\n",
      "In the end, John successfully defeated the sorcerer and restored peace to the land. With his mission accomplished, he returned to his own world, forever changed by his extraordinary adventure.\n",
      "\n",
      "John's story serves as a reminder that sometimes, stepping out of our comfort zone and embracing the unknown can lead to incredible experiences and personal growth.\n"
     ]
    }
   ],
   "source": [
    "print(feedback.content)"
   ]
  },
  {
   "cell_type": "code",
   "execution_count": null,
   "id": "fa7d7a86-590e-4aa0-93e7-f649e0da91ef",
   "metadata": {},
   "outputs": [],
   "source": []
  },
  {
   "cell_type": "code",
   "execution_count": null,
   "id": "889479ab-b873-4650-81a0-2d194c1a2861",
   "metadata": {},
   "outputs": [],
   "source": []
  }
 ],
 "metadata": {
  "kernelspec": {
   "display_name": "storysmith",
   "language": "python",
   "name": "storysmith"
  },
  "language_info": {
   "codemirror_mode": {
    "name": "ipython",
    "version": 3
   },
   "file_extension": ".py",
   "mimetype": "text/x-python",
   "name": "python",
   "nbconvert_exporter": "python",
   "pygments_lexer": "ipython3",
   "version": "3.11.5"
  }
 },
 "nbformat": 4,
 "nbformat_minor": 5
}
