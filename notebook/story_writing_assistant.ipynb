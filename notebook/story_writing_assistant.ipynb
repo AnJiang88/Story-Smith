{
 "cells": [
  {
   "cell_type": "markdown",
   "id": "5d4af1a9-a7d7-41a4-bc13-6f72a0a89fb1",
   "metadata": {},
   "source": [
    "### Set up"
   ]
  },
  {
   "cell_type": "code",
   "execution_count": 1,
   "id": "7205bd90-5fca-4843-8fbf-f2619936dc3e",
   "metadata": {
    "tags": []
   },
   "outputs": [],
   "source": [
    "import os\n",
    "\n",
    "from langchain.llms import OpenAI\n",
    "from langchain.prompts import PromptTemplate\n",
    "from langchain.chains import LLMChain\n",
    "from langchain.chat_models import ChatOpenAI"
   ]
  },
  {
   "cell_type": "code",
   "execution_count": 2,
   "id": "3527b684-76c5-4519-94fb-e4dfb1f47ece",
   "metadata": {
    "tags": []
   },
   "outputs": [],
   "source": [
    "from dotenv import load_dotenv\n",
    "load_dotenv()  # take environment variables from .env.\n",
    "\n",
    "os.environ['OPENAI_API_KEY'] = os.getenv(\"OPENAI_API_KEY\")"
   ]
  },
  {
   "cell_type": "code",
   "execution_count": 40,
   "id": "a844171a-2a3e-4267-92be-c4de440733df",
   "metadata": {},
   "outputs": [],
   "source": [
    "llm_story_emulator = OpenAI(model_name=\"gpt-3.5-turbo-instruct\", temperature=0.8, max_tokens=200)\n",
    "llm = OpenAI(model_name=\"gpt-3.5-turbo-instruct\", temperature=0.8)\n",
    "chat = ChatOpenAI(model_name=\"gpt-3.5-turbo\", temperature=0.8)"
   ]
  },
  {
   "cell_type": "markdown",
   "id": "754e76ea-00df-44e3-9315-5cfd1c4426f0",
   "metadata": {},
   "source": [
    "### Generate an example of student's writing"
   ]
  },
  {
   "cell_type": "code",
   "execution_count": 41,
   "id": "ee97b8f1-40d9-4a5f-a16b-1f9228cd8305",
   "metadata": {},
   "outputs": [],
   "source": [
    "writing_assignment = \"Write a story about a character who discovers a hidden world within their own mind, filled with their deepest desires and fears.\""
   ]
  },
  {
   "cell_type": "code",
   "execution_count": 42,
   "id": "0a078e0d-e855-4c80-8774-f8fa10b14dd8",
   "metadata": {},
   "outputs": [
    {
     "name": "stdout",
     "output_type": "stream",
     "text": [
      "\n",
      "\n",
      "Alice was always a curious and imaginative person. As a child, she would often get lost in her own thoughts, creating fantastic worlds and adventures in her mind. As she grew older, Alice's vivid imagination became more subdued, and she found herself getting caught up in the stresses and routines of everyday life.\n",
      "\n",
      "But one day, while taking a walk in the park, Alice stumbled upon a hidden door in a tree trunk. She couldn't resist her curiosity and pushed the door open, expecting to find a squirrel's nest or some other small creature's hiding spot. However, to her surprise, she found herself falling through a dark tunnel and landing in a new world.\n",
      "\n",
      "As she looked around, Alice realized that she was in a realm unlike any she had ever seen before. The sky was a deep purple, and the trees were a vibrant shade of blue. The grass was a bright green, and the flowers were all different colors, some of which she had never seen before. Alice's heart was\n"
     ]
    }
   ],
   "source": [
    "story = llm_story_emulator(writing_assignment)\n",
    "print(story)"
   ]
  },
  {
   "cell_type": "markdown",
   "id": "5f3fad96-58f8-4259-b358-41907b6ad014",
   "metadata": {},
   "source": [
    "### Construct the prompt and get feedback"
   ]
  },
  {
   "cell_type": "code",
   "execution_count": 45,
   "id": "e366303a-ba78-44dc-a0fe-0a31baa59841",
   "metadata": {},
   "outputs": [
    {
     "name": "stdout",
     "output_type": "stream",
     "text": [
      "\n",
      "- Consider starting the story with a more attention-grabbing sentence to hook the reader's interest.\n",
      "- Use more descriptive language to paint a vivid picture of Alice's imaginative mind as a child.\n",
      "- When describing the hidden door, use sensory details to make the reader feel as though they are also discovering it for the first time.\n",
      "- Instead of saying \"to her surprise,\" show Alice's reaction to falling through the dark tunnel and landing in the new world.\n",
      "- Use more specific and unique descriptions of the new world that Alice discovers.\n",
      "- Show how Alice's heart is feeling, rather than just stating it.\n",
      "- Consider adding in what Alice's initial thoughts and emotions are when she first realizes she has entered a new world within her own mind.\n",
      "- Use more active verbs and avoid passive phrasing, such as \"Alice was always a curious and imaginative person\". Instead, show her curiosity and imagination in action.\n",
      "- Consider adding in more details about the stresses and routines of Alice's everyday life to create a stronger contrast with the new world she discovers.\n",
      "- End the story with a strong and impactful conclusion, highlighting the significance of Alice's discovery and how it changes her.\n"
     ]
    }
   ],
   "source": [
    "prompt = f\"\"\"You are a helpful assistant for a student writing a story based on the following writing assignment: {writing_assignment}.\n",
    "             Use concise expression to provide constructive pointers and suggestions to help the student improve their writing.\n",
    "             Focus on creativity, specific details, structure, and clarity. Avoid writing full sentences.\n",
    "             Student's writing: {story}\n",
    "             \"\"\"\n",
    "\n",
    "print(llm(prompt))"
   ]
  },
  {
   "cell_type": "code",
   "execution_count": null,
   "id": "fa7d7a86-590e-4aa0-93e7-f649e0da91ef",
   "metadata": {},
   "outputs": [],
   "source": []
  },
  {
   "cell_type": "code",
   "execution_count": null,
   "id": "889479ab-b873-4650-81a0-2d194c1a2861",
   "metadata": {},
   "outputs": [],
   "source": []
  }
 ],
 "metadata": {
  "kernelspec": {
   "display_name": "storysmith",
   "language": "python",
   "name": "storysmith"
  },
  "language_info": {
   "codemirror_mode": {
    "name": "ipython",
    "version": 3
   },
   "file_extension": ".py",
   "mimetype": "text/x-python",
   "name": "python",
   "nbconvert_exporter": "python",
   "pygments_lexer": "ipython3",
   "version": "3.11.5"
  }
 },
 "nbformat": 4,
 "nbformat_minor": 5
}
