{
 "cells": [
  {
   "cell_type": "markdown",
   "id": "5d4af1a9-a7d7-41a4-bc13-6f72a0a89fb1",
   "metadata": {},
   "source": [
    "### Set up"
   ]
  },
  {
   "cell_type": "code",
   "execution_count": 1,
   "id": "7205bd90-5fca-4843-8fbf-f2619936dc3e",
   "metadata": {
    "tags": []
   },
   "outputs": [],
   "source": [
    "from langchain.llms import OpenAI\n",
    "from langchain.prompts import PromptTemplate\n",
    "from langchain.chains import LLMChain\n",
    "from langchain.chat_models import ChatOpenAI"
   ]
  },
  {
   "cell_type": "code",
   "execution_count": 2,
   "id": "3527b684-76c5-4519-94fb-e4dfb1f47ece",
   "metadata": {
    "tags": []
   },
   "outputs": [],
   "source": [
    "import os\n",
    "from dotenv import load_dotenv\n",
    "load_dotenv()  # take environment variables from .env.\n",
    "\n",
    "os.environ['OPENAI_API_KEY'] = os.getenv(\"OPENAI_API_KEY\")"
   ]
  },
  {
   "cell_type": "code",
   "execution_count": 3,
   "id": "a844171a-2a3e-4267-92be-c4de440733df",
   "metadata": {},
   "outputs": [],
   "source": [
    "llm_generate_writing_assignment = OpenAI(model_name=\"gpt-3.5-turbo-instruct\", temperature=0.8)\n",
    "llm_story_emulator = OpenAI(model_name=\"gpt-3.5-turbo-instruct\", temperature=0.7)\n",
    "llm = OpenAI(model_name=\"gpt-3.5-turbo-instruct\", temperature=0.8)\n",
    "chat = ChatOpenAI(model_name=\"gpt-3.5-turbo\", temperature=0.8)"
   ]
  },
  {
   "cell_type": "markdown",
   "id": "df53bde9-1b0a-43f3-9fe8-fca31cdeb928",
   "metadata": {},
   "source": [
    "### Generate writing assignment"
   ]
  },
  {
   "cell_type": "code",
   "execution_count": 4,
   "id": "7928e063-2171-4363-a105-c89a3f80b903",
   "metadata": {},
   "outputs": [
    {
     "name": "stdout",
     "output_type": "stream",
     "text": [
      "\n",
      "\n",
      "\"Write a story about a character who discovers they have the ability to time travel, and the consequences that come with this newfound power.\"\n"
     ]
    }
   ],
   "source": [
    "writing_assignment = llm_generate_writing_assignment('Give a prompt for a creative writing assignment')\n",
    "print(writing_assignment)"
   ]
  },
  {
   "cell_type": "markdown",
   "id": "754e76ea-00df-44e3-9315-5cfd1c4426f0",
   "metadata": {},
   "source": [
    "### Generate a draft"
   ]
  },
  {
   "cell_type": "code",
   "execution_count": 5,
   "id": "0a078e0d-e855-4c80-8774-f8fa10b14dd8",
   "metadata": {},
   "outputs": [
    {
     "name": "stdout",
     "output_type": "stream",
     "text": [
      "\n",
      "\n",
      "Lucy had always been an ordinary girl, living an ordinary life. That is, until she stumbled upon a mysterious watch in her attic. As she put it on her wrist, she felt a strange energy coursing through her body. Suddenly, everything around her began to blur and she found herself transported to a different time period.\n",
      "\n",
      "At first, Lucy was ecstatic about her newfound ability to time travel. She explored different eras, witnessing historical events and meeting famous figures. However, as she continued to use her power, she realized that changing the past had consequences. Every time she altered something, the present would change in unexpected and sometimes disastrous ways. She soon learned that with great power comes great responsibility, and she had to be careful with her time traveling adventures.\n"
     ]
    }
   ],
   "source": [
    "draft = llm_story_emulator(writing_assignment + \"with only 3 paragraphs\")\n",
    "print(draft)"
   ]
  },
  {
   "cell_type": "markdown",
   "id": "5f3fad96-58f8-4259-b358-41907b6ad014",
   "metadata": {},
   "source": [
    "### Construct the prompt and get feedback"
   ]
  },
  {
   "cell_type": "markdown",
   "id": "0587e5be-b5de-4fa2-b5f0-100d4676091a",
   "metadata": {},
   "source": [
    "#### Use GPT-3.5-turbo-instruct model"
   ]
  },
  {
   "cell_type": "code",
   "execution_count": 6,
   "id": "e366303a-ba78-44dc-a0fe-0a31baa59841",
   "metadata": {},
   "outputs": [
    {
     "name": "stdout",
     "output_type": "stream",
     "text": [
      "\n",
      "Dear student,\n",
      "\n",
      "You have a very interesting concept for your story about time travel and the consequences that come with it. Your opening paragraph effectively sets the stage for the story and introduces us to the main character, Lucy. However, there are a few areas that could be improved upon to make your writing even stronger.\n",
      "\n",
      "Firstly, consider using more descriptive language to paint a clearer picture for the reader. For example, instead of just stating that Lucy found a \"mysterious watch,\" you could describe the watch in more detail to create a sense of intrigue and curiosity for both Lucy and the reader. What color is the watch? Does it have any unique engravings or symbols on it? These small details can help bring your story to life and engage the reader's imagination.\n",
      "\n",
      "Additionally, you mention that Lucy felt a \"strange energy\" when she put on the watch. Can you expand on this feeling and describe it in more detail? How did it make her feel physically and emotionally? This will help the reader understand the impact of the watch on Lucy and also add depth to her character.\n",
      "\n",
      "Furthermore, as Lucy begins to explore different time periods, it would be helpful to describe them in more detail. What do these eras look like? What are the sights, sounds,\n"
     ]
    }
   ],
   "source": [
    "prompt = f\"\"\"Imagine you are a writing coach collaborating with a student on a creative project: {writing_assignment}.\n",
    "The student has started a story, essay, or any piece of writing, and they need your guidance to enhance their work.\n",
    "Provide constructive feedback, suggestions, and ideas to help the student improve their writing.\n",
    "Focus on areas such as clarity, organization, creativity, and language use.\n",
    "Point out strengths in their writing and offer specific advice on how they can build on those strengths.\n",
    "Encourage them to explore new perspectives, expand on their ideas, and refine their arguments.\n",
    "Your goal is to empower the student to develop their writing skills by providing thoughtful and insightful guidance.\n",
    "Be supportive, encouraging, and specific in your feedback, helping the student to become a better writer.\n",
    "Assist the student in their writing process without writing on behalf of them.\n",
    "Here is the student's draft: {draft}\n",
    "\"\"\"\n",
    "\n",
    "feedback_llm = llm(prompt)\n",
    "print(feedback_llm)"
   ]
  },
  {
   "cell_type": "markdown",
   "id": "0d579f03-ab67-44f1-ab4e-6f638e7fa8bb",
   "metadata": {},
   "source": [
    "#### The feedback given by this model has a troublesome format and mediocre content"
   ]
  },
  {
   "cell_type": "markdown",
   "id": "0e9c8287-ce8a-4ad7-826c-f9c3fe0791bf",
   "metadata": {},
   "source": [
    "#### Use GPT-3.5-turbo (chat) model"
   ]
  },
  {
   "cell_type": "code",
   "execution_count": 7,
   "id": "192460e3-63b3-477e-97cf-843c681089cc",
   "metadata": {},
   "outputs": [
    {
     "name": "stdout",
     "output_type": "stream",
     "text": [
      "Great start to your story! You've set up an intriguing premise with Lucy discovering a mysterious watch that gives her the ability to time travel. Your introduction captures the reader's attention and leaves them wanting to know more about what will happen to Lucy.\n",
      "\n",
      "To enhance your writing, you could consider adding more details and descriptions to help your readers visualize the scenes. For example, when Lucy puts on the watch and feels the strange energy, you can expand on the physical sensations she experiences. What exactly does the energy feel like? Is it a tingling sensation or a rush of warmth? By adding these sensory details, you can make the scene more vivid and immersive.\n",
      "\n",
      "In addition, you could delve deeper into Lucy's emotions and thoughts as she discovers her ability to time travel. How does she react when she realizes what the watch can do? Is she initially scared, excited, or a combination of both? Exploring her inner journey will add depth to her character and make her more relatable to readers.\n",
      "\n",
      "As the story progresses, it would be interesting to see Lucy encounter specific historical events or meet famous figures. This could be an opportunity to bring in more research and create a rich and accurate historical backdrop for your story. Consider choosing a few key events or figures that are relevant to your plot and delve into them with more detail. This will make the time periods Lucy visits more vibrant and provide opportunities for conflict and character development.\n",
      "\n",
      "To give your story a stronger structure, you might want to consider outlining a few key plot points. For example, what is the turning point where Lucy realizes that changing the past has consequences? How does this impact her and the decisions she makes? Thinking about these key moments in advance can help you weave a more cohesive and engaging story.\n",
      "\n",
      "Overall, you have a solid foundation for your story. Focus on bringing in more descriptive details, exploring Lucy's emotions and thoughts, adding historical authenticity, and structuring your plot effectively. Keep up the good work, and don't be afraid to experiment and take risks with your writing!\n"
     ]
    }
   ],
   "source": [
    "from langchain.schema import AIMessage, HumanMessage, SystemMessage\n",
    "messages = [\n",
    "    SystemMessage(\n",
    "        content=\"\"\"Imagine you are a writing coach collaborating with a student on a creative project.\n",
    "        The student has started a story, essay, or any piece of writing, and they need your guidance to enhance their work.\n",
    "        Provide constructive feedback, suggestions, and ideas to help the student improve their writing.\n",
    "        Focus on areas such as clarity, organization, creativity, and language use.\n",
    "        Point out strengths in their writing and offer specific advice on how they can build on those strengths.\n",
    "        Encourage them to explore new perspectives, expand on their ideas, and refine their arguments.\n",
    "        Your goal is to empower the student to develop their writing skills by providing thoughtful and insightful guidance.\n",
    "        Be supportive, encouraging, and specific in your feedback, helping the student to become a better writer.\n",
    "        \"\"\"\n",
    "    ),\n",
    "    HumanMessage(\n",
    "        content=f\"\"\"Hi, here is the prompt that I'm writing about: {writing_assignment}\n",
    "        Here is what I've written so far. {draft}\n",
    "        Please assist me in my writing process without writing on behalf of me.\n",
    "        \"\"\"\n",
    "    ),\n",
    "]\n",
    "\n",
    "feedback_chat = chat(messages).content\n",
    "print(feedback_chat)"
   ]
  },
  {
   "cell_type": "code",
   "execution_count": 10,
   "id": "31785001-0b4c-4b73-93ec-501a889116be",
   "metadata": {},
   "outputs": [
    {
     "name": "stdout",
     "output_type": "stream",
     "text": [
      "The number of the words in the feedback is 360.\n"
     ]
    }
   ],
   "source": [
    "print(f\"The number of the words in the feedback is {len(feedback_chat.split())}.\")"
   ]
  },
  {
   "cell_type": "markdown",
   "id": "0ff19dcb-41a5-42f1-a2ed-9a34be9e3914",
   "metadata": {},
   "source": [
    "#### The feedback given by this model is rich in content and inspiring, it is very specific to the draft and explaining how to improve the draft in specific areas. \n",
    "#### It's just too long for our web app"
   ]
  },
  {
   "cell_type": "markdown",
   "id": "3b4c2958-96b5-4526-8351-073e425665d3",
   "metadata": {},
   "source": [
    "### Phrase the prompt differently to make the feedback brief and concise"
   ]
  },
  {
   "cell_type": "code",
   "execution_count": 11,
   "id": "b8e76852-0855-450d-9d49-dd53034792f1",
   "metadata": {},
   "outputs": [
    {
     "name": "stdout",
     "output_type": "stream",
     "text": [
      "Your story has a great start! Here are a few suggestions to enhance it:\n",
      "\n",
      "1. Introduce Lucy's ordinary life: Before Lucy discovers the watch, spend a little time describing her ordinary life. What does she do? What are her interests? This will make her transformation into a time traveler even more impactful.\n",
      "\n",
      "2. Show, don't tell: Instead of simply stating that Lucy was ecstatic about her ability, show her excitement through her actions and thoughts. Does she jump up and down? Does she make a list of all the places she wants to visit?\n",
      "\n",
      "3. Add specific examples: When Lucy explores different time periods, give specific examples of historical events she witnesses or famous figures she meets. This will make the story more engaging and immersive for the reader.\n",
      "\n",
      "4. Build tension: As Lucy realizes the consequences of altering the past, create tension by describing the unexpected and disastrous ways the present changes. Show the reader the direct impact of Lucy's actions and the challenges she faces in trying to fix them.\n",
      "\n",
      "5. Develop the theme of responsibility: Explore the theme of responsibility more explicitly. Show how Lucy learns from her mistakes and grows as a character. What choices does she make to ensure she uses her power responsibly?\n",
      "\n",
      "Overall, your story has a lot of potential! Keep developing the plot, adding details and depth to the characters, and exploring the consequences of time travel. Good luck with your writing!\n"
     ]
    }
   ],
   "source": [
    "from langchain.schema import AIMessage, HumanMessage, SystemMessage\n",
    "messages = [\n",
    "    SystemMessage(\n",
    "        content=\"\"\"Act as a writing coach for a student.\n",
    "        Review their work and provide concise feedback and suggestions to enhance clarity, organization, creativity, and language use.\n",
    "        Identify strengths and offer specific advice to improve weaknesses.\n",
    "        Encourage exploration of new perspectives and refinement of arguments.\n",
    "        Be constructive, specific and brief in your feedback to help the student become a better writer.\n",
    "        \"\"\"\n",
    "    ),\n",
    "    HumanMessage(\n",
    "        content=f\"\"\"Hi, here is the prompt that I'm writing about: {writing_assignment}\n",
    "        Here is what I've written so far. {draft}\n",
    "        Please assist me in my writing process without writing on behalf of me.\n",
    "        \"\"\"\n",
    "    ),\n",
    "]\n",
    "\n",
    "feedback_chat_rephrase = chat(messages).content\n",
    "print(feedback_chat_rephrase)"
   ]
  },
  {
   "cell_type": "code",
   "execution_count": 12,
   "id": "dfab8827-bacb-4857-8f59-e0d7c50530a5",
   "metadata": {},
   "outputs": [
    {
     "name": "stdout",
     "output_type": "stream",
     "text": [
      "The number of the words in the feedback is 240.\n"
     ]
    }
   ],
   "source": [
    "print(f\"The number of the words in the feedback is {len(feedback_chat_rephrase.split())}.\")"
   ]
  },
  {
   "cell_type": "markdown",
   "id": "78e285bf-6bd6-4116-928d-c73e8e4c2073",
   "metadata": {},
   "source": [
    "#### Shorter but not enough!"
   ]
  },
  {
   "cell_type": "markdown",
   "id": "80a073dd-a47e-4f65-ad76-900ddbb993fd",
   "metadata": {},
   "source": [
    "### Specify the feedback length in the prompt"
   ]
  },
  {
   "cell_type": "code",
   "execution_count": 13,
   "id": "4287fa9e-6dc2-4e38-bd46-6fdf22be8960",
   "metadata": {},
   "outputs": [
    {
     "name": "stdout",
     "output_type": "stream",
     "text": [
      "Great start to your story! I love how you introduce Lucy as an ordinary girl and then introduce the twist of her discovering the mysterious watch. It immediately grabs the reader's attention. As you continue writing, consider adding more details about Lucy's emotions and reactions as she time travels. How does she feel when she first realizes she can travel through time? Is she scared, excited, or both? Additionally, you could delve deeper into the consequences of her actions. What are some specific examples of how the present changes when she alters the past? This will add more depth and complexity to your story. Keep up the good work and happy writing!\n"
     ]
    }
   ],
   "source": [
    "from langchain.schema import AIMessage, HumanMessage, SystemMessage\n",
    "messages = [\n",
    "    SystemMessage(\n",
    "        content=\"\"\"Imagine you are a writing coach collaborating with a student on a creative project.\n",
    "        The student has started a story, essay, or any piece of writing, and they need your guidance to enhance their work.\n",
    "        Provide constructive feedback, suggestions, and ideas to help the student improve their writing.\n",
    "        Focus on areas such as clarity, organization, creativity, and language use.\n",
    "        Point out strengths in their writing and offer specific advice on how they can build on those strengths.\n",
    "        Encourage them to explore new perspectives, expand on their ideas, and refine their arguments.\n",
    "        Your goal is to empower the student to develop their writing skills by providing thoughtful and insightful guidance.\n",
    "        Be supportive, encouraging, and specific in your feedback, helping the student to become a better writer.\n",
    "        Provide your feedback in a single paragraph that is 100 words long. \n",
    "        \"\"\"\n",
    "    ),\n",
    "    HumanMessage(\n",
    "        content=f\"\"\"Hi, here is the prompt that I'm writing about: {writing_assignment}\n",
    "        Here is what I've written so far. {draft}\n",
    "        Please assist me in my writing process without writing on behalf of me.\n",
    "        \"\"\"\n",
    "    ),\n",
    "]\n",
    "\n",
    "feedback_chat_short = chat(messages).content\n",
    "print(feedback_chat_short)"
   ]
  },
  {
   "cell_type": "code",
   "execution_count": 14,
   "id": "822c94bc-14c0-41aa-9215-36eaa24a912d",
   "metadata": {},
   "outputs": [
    {
     "name": "stdout",
     "output_type": "stream",
     "text": [
      "The number of the words in the feedback is 112.\n"
     ]
    }
   ],
   "source": [
    "print(f\"The number of the words in the feedback is {len(feedback_chat_short.split())}.\")"
   ]
  },
  {
   "cell_type": "markdown",
   "id": "45c8f1bd-de7c-4a92-abac-fb276e231f8c",
   "metadata": {},
   "source": [
    "#### This is working, we got the desired length!"
   ]
  },
  {
   "cell_type": "markdown",
   "id": "95f184b6-dbd8-4b19-9e4a-be93f96fbdfe",
   "metadata": {
    "tags": []
   },
   "source": [
    "### Why not have two options? Let the user choose\n",
    "#### Generate a long feedback, and then summarize it to a short one. \n",
    "In this way, we can provide two versions of feedbacks to users - a comprehensive feedback including all the details and a concise feedback giving only the main information"
   ]
  },
  {
   "cell_type": "code",
   "execution_count": 17,
   "id": "153b6ae4-34db-4e28-8637-8573520ed985",
   "metadata": {},
   "outputs": [
    {
     "name": "stdout",
     "output_type": "stream",
     "text": [
      "\n",
      "\n",
      "Lucy finds a mysterious watch that allows her to time travel, setting up a captivating premise for the story. Adding more details and descriptions, including sensory details, can make the scenes more vivid. Exploring Lucy's emotions and thoughts as she discovers her ability to time travel adds depth to her character. Meeting famous figures or encountering specific historical events can provide opportunities for conflict and character development. Outlining key plot points, such as the turning point where Lucy realizes the consequences of changing the past, can help create a cohesive and engaging story. Adding descriptive details, exploring emotions, incorporating historical authenticity, and structuring the plot effectively will enhance the story.\n"
     ]
    }
   ],
   "source": [
    "summary_llm = llm(f\"Summarize the following text into a concise summary that is 100 words long: {feedback_chat}\")\n",
    "print(summary_llm)"
   ]
  },
  {
   "cell_type": "code",
   "execution_count": 18,
   "id": "65a306e1-47d2-4180-9686-979159fdb6ae",
   "metadata": {},
   "outputs": [
    {
     "name": "stdout",
     "output_type": "stream",
     "text": [
      "The number of the words in the feedback is 110.\n"
     ]
    }
   ],
   "source": [
    "print(f\"The number of the words in the feedback is {len(summary_llm.split())}.\")"
   ]
  },
  {
   "cell_type": "markdown",
   "id": "55c6bd3a-7dc9-40f5-b569-87de5c2ce2a7",
   "metadata": {},
   "source": [
    "#### Embed the summarization step in the chat to make the feedback summary consistent with the initial prompt."
   ]
  },
  {
   "cell_type": "code",
   "execution_count": 19,
   "id": "94f158ab-8261-4ddc-bf10-a56cbb225a66",
   "metadata": {},
   "outputs": [
    {
     "name": "stdout",
     "output_type": "stream",
     "text": [
      "Great start to your story about Lucy discovering the ability to time travel with a mysterious watch. Enhance your writing by adding descriptive details and sensory imagery to immerse readers in the scenes. Explore Lucy's emotions and thoughts as she discovers her power. Delve into specific historical events and famous figures to create a rich backdrop. Consider outlining key plot points for a stronger structure. Overall, focus on bringing in more details, adding historical authenticity, and structuring your plot effectively. Keep up the good work and take risks with your writing!\n"
     ]
    }
   ],
   "source": [
    "from langchain.schema import AIMessage, HumanMessage, SystemMessage\n",
    "messages = [\n",
    "    SystemMessage(\n",
    "        content=\"\"\"Imagine you are a writing coach collaborating with a student on a creative project.\n",
    "        The student has started a story, essay, or any piece of writing, and they need your guidance to enhance their work.\n",
    "        Provide constructive feedback, suggestions, and ideas to help the student improve their writing.\n",
    "        Focus on areas such as clarity, organization, creativity, and language use.\n",
    "        Point out strengths in their writing and offer specific advice on how they can build on those strengths.\n",
    "        Encourage them to explore new perspectives, expand on their ideas, and refine their arguments.\n",
    "        Your goal is to empower the student to develop their writing skills by providing thoughtful and insightful guidance.\n",
    "        Be supportive, encouraging, and specific in your feedback, helping the student to become a better writer.\n",
    "        \"\"\"\n",
    "    ),\n",
    "    HumanMessage(\n",
    "        content=f\"\"\"Hi, here is the prompt that I'm writing about: {writing_assignment}\n",
    "        Here is what I've written so far. {draft}\n",
    "        Please assist me in my writing process without writing on behalf of me.\n",
    "        \"\"\"\n",
    "    ),\n",
    "    AIMessage(\n",
    "        content=feedback_chat\n",
    "    ),\n",
    "    HumanMessage(\n",
    "        content=\"Summarize the feedback above into a concise summary that is 100 words long.\"\n",
    "    )\n",
    "]\n",
    "\n",
    "summary_chat = chat(messages).content\n",
    "print(summary_chat)"
   ]
  },
  {
   "cell_type": "code",
   "execution_count": 20,
   "id": "88d4e400-c455-4972-8825-aa2d2dbd553a",
   "metadata": {},
   "outputs": [
    {
     "name": "stdout",
     "output_type": "stream",
     "text": [
      "The number of the words in the feedback is 91.\n"
     ]
    }
   ],
   "source": [
    "print(f\"The number of the words in the feedback is {len(summary_chat.split())}.\")"
   ]
  },
  {
   "cell_type": "markdown",
   "id": "d9cc6e0c-889b-477c-bd5a-a80e0860086e",
   "metadata": {},
   "source": [
    "#### This looks really good! Even though the feedback is less than 100 words, it keeps all the main tips for writing improvement in a short paragraph. It is much better than the one we got when we explicitly specify the feedback length in the prompt. "
   ]
  },
  {
   "cell_type": "code",
   "execution_count": null,
   "id": "443983b4-0136-4766-a678-c4f6c6101b23",
   "metadata": {},
   "outputs": [],
   "source": []
  }
 ],
 "metadata": {
  "kernelspec": {
   "display_name": "storysmith",
   "language": "python",
   "name": "storysmith"
  },
  "language_info": {
   "codemirror_mode": {
    "name": "ipython",
    "version": 3
   },
   "file_extension": ".py",
   "mimetype": "text/x-python",
   "name": "python",
   "nbconvert_exporter": "python",
   "pygments_lexer": "ipython3",
   "version": "3.11.5"
  }
 },
 "nbformat": 4,
 "nbformat_minor": 5
}
