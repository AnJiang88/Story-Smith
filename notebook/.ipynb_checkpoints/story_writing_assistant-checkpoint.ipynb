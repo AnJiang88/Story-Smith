{
 "cells": [
  {
   "cell_type": "markdown",
   "id": "5d4af1a9-a7d7-41a4-bc13-6f72a0a89fb1",
   "metadata": {},
   "source": [
    "### Set up"
   ]
  },
  {
   "cell_type": "code",
   "execution_count": 1,
   "id": "7205bd90-5fca-4843-8fbf-f2619936dc3e",
   "metadata": {
    "tags": []
   },
   "outputs": [],
   "source": [
    "from langchain.llms import OpenAI\n",
    "from langchain.prompts import PromptTemplate\n",
    "from langchain.chains import LLMChain\n",
    "from langchain.chat_models import ChatOpenAI"
   ]
  },
  {
   "cell_type": "code",
   "execution_count": 2,
   "id": "3527b684-76c5-4519-94fb-e4dfb1f47ece",
   "metadata": {
    "tags": []
   },
   "outputs": [],
   "source": [
    "import os\n",
    "from dotenv import load_dotenv\n",
    "load_dotenv()  # take environment variables from .env.\n",
    "\n",
    "os.environ['OPENAI_API_KEY'] = os.getenv(\"OPENAI_API_KEY\")"
   ]
  },
  {
   "cell_type": "code",
   "execution_count": 3,
   "id": "a844171a-2a3e-4267-92be-c4de440733df",
   "metadata": {},
   "outputs": [],
   "source": [
    "llm_story_emulator = OpenAI(model_name=\"gpt-3.5-turbo-instruct\", temperature=0.8, max_tokens=200)\n",
    "llm = OpenAI(model_name=\"gpt-3.5-turbo-instruct\", temperature=0.8)\n",
    "chat = ChatOpenAI(model_name=\"gpt-3.5-turbo\", temperature=0.8)"
   ]
  },
  {
   "cell_type": "markdown",
   "id": "754e76ea-00df-44e3-9315-5cfd1c4426f0",
   "metadata": {},
   "source": [
    "### Generate an example of student's writing"
   ]
  },
  {
   "cell_type": "code",
   "execution_count": 4,
   "id": "ee97b8f1-40d9-4a5f-a16b-1f9228cd8305",
   "metadata": {},
   "outputs": [],
   "source": [
    "writing_assignment = \"Write a story about a character who discovers a hidden world within their own mind, filled with their deepest desires and fears.\""
   ]
  },
  {
   "cell_type": "code",
   "execution_count": 5,
   "id": "0a078e0d-e855-4c80-8774-f8fa10b14dd8",
   "metadata": {},
   "outputs": [
    {
     "name": "stdout",
     "output_type": "stream",
     "text": [
      "\n",
      "\n",
      "Emmett was an ordinary young man, living an ordinary life. He had a job as an accountant, a small apartment in the city, and a few close friends. His routine was comfortable, but he often felt a sense of restlessness and longing for something more.\n",
      "\n",
      "One night, as he lay in bed trying to fall asleep, Emmett suddenly found himself in a strange and unfamiliar world. He was standing in a lush forest, surrounded by towering trees and the sounds of chirping birds. He looked down at his hands and saw that they were glowing with a soft, golden light.\n",
      "\n",
      "Confused and a little frightened, Emmett began to explore this new world. He came across a crystal-clear lake, where he saw a reflection of himself – except, he looked different. He was stronger, more confident, and radiating with a sense of purpose.\n",
      "\n",
      "As he continued to explore, he encountered creatures he had only read about in fairytales – unicorns, dragons, and mer\n"
     ]
    }
   ],
   "source": [
    "story = llm_story_emulator(writing_assignment)\n",
    "print(story)"
   ]
  },
  {
   "cell_type": "markdown",
   "id": "5f3fad96-58f8-4259-b358-41907b6ad014",
   "metadata": {},
   "source": [
    "### Construct the prompt and get feedback"
   ]
  },
  {
   "cell_type": "code",
   "execution_count": 6,
   "id": "e366303a-ba78-44dc-a0fe-0a31baa59841",
   "metadata": {},
   "outputs": [
    {
     "name": "stdout",
     "output_type": "stream",
     "text": [
      "\n",
      "- Try to use more vivid and descriptive language to paint a clearer picture of the hidden world within Emmett's mind. For example, instead of \"strange and unfamiliar world,\" you could use \"mysterious and ethereal realm.\"\n",
      "- Consider adding more details about Emmett's routine and daily life before he discovers the hidden world, to make his journey more impactful.\n",
      "- Think about adding some conflict or challenge for Emmett to face in this new world, to create a stronger narrative arc.\n",
      "- You could explore the reason behind Emmett's restlessness and longing for something more, to add depth to his character.\n",
      "- Consider using different senses to describe the world, such as the smell of the forest, the feel of the glowing light on Emmett's skin, or the taste of the water in the lake.\n",
      "- Think about the emotions Emmett is feeling as he explores this new world, and try to convey them through his actions and interactions with the creatures he meets.\n",
      "- Consider including some dialogue between Emmett and the creatures he encounters, to add more personality to the story.\n",
      "- Think about the climax and resolution of the story – what is the ultimate lesson or message that Emmett learns from this experience?\n",
      "- Make sure to proofread and revise your writing for\n"
     ]
    }
   ],
   "source": [
    "prompt = f\"\"\"You are a helpful assistant for a student writing a story based on the following writing assignment: {writing_assignment}.\n",
    "             Use concise expression to provide constructive pointers and suggestions to help the student improve their writing.\n",
    "             Focus on creativity, specific details, structure, and clarity. Avoid writing full sentences.\n",
    "             Student's writing: {story}\n",
    "             \"\"\"\n",
    "\n",
    "print(llm(prompt))"
   ]
  },
  {
   "cell_type": "markdown",
   "id": "4a961701-4cff-4f43-9c47-33a79988aa21",
   "metadata": {},
   "source": [
    "### Prepare the rubric"
   ]
  },
  {
   "cell_type": "code",
   "execution_count": 9,
   "id": "889479ab-b873-4650-81a0-2d194c1a2861",
   "metadata": {},
   "outputs": [],
   "source": [
    "import numpy as np\n",
    "from langchain.text_splitter import RecursiveCharacterTextSplitter\n",
    "from langchain.document_loaders import PyPDFDirectoryLoader\n",
    "\n",
    "loader = PyPDFDirectoryLoader(\"\")\n",
    "\n",
    "documents = loader.load()"
   ]
  },
  {
   "cell_type": "code",
   "execution_count": 10,
   "id": "fa1d976b-c2be-4945-b96d-9deabf8dd9c7",
   "metadata": {},
   "outputs": [
    {
     "name": "stdout",
     "output_type": "stream",
     "text": [
      "Average length among 1 documents loaded is 4970 characters.\n"
     ]
    }
   ],
   "source": [
    "avg_doc_length = lambda documents: sum([len(doc.page_content) for doc in documents])//len(documents)\n",
    "print(f'Average length among {len(documents)} documents loaded is {avg_doc_length(documents)} characters.')"
   ]
  },
  {
   "cell_type": "markdown",
   "id": "dfc68582-22a7-4cdd-b3ae-9edbbcd211e3",
   "metadata": {},
   "source": [
    "Mannally extract key component (descriptors) from Narrative_rubric.pdf and saved them in a text file."
   ]
  },
  {
   "cell_type": "code",
   "execution_count": 24,
   "id": "dba78325-0d6b-4f65-a2a9-f06c4b5220b9",
   "metadata": {},
   "outputs": [],
   "source": [
    "with open(\"rubric.txt\") as file:\n",
    "    rubric = file.read()"
   ]
  },
  {
   "cell_type": "code",
   "execution_count": 25,
   "id": "10f4bd06-5673-48be-b8ba-a49c4c05f67c",
   "metadata": {},
   "outputs": [
    {
     "name": "stdout",
     "output_type": "stream",
     "text": [
      "Descriptors:\n",
      "\n",
      "-Ideas\n",
      "Strong and creative story idea; specific, descriptive details; use of plot, setting, characters, conflict, and dialogue \n",
      "\n",
      "-Organization\n",
      "Unified structure, clear direction, and clever transitions \n",
      "\n",
      "-Word Choice\n",
      "Precise, rich language that expresses ideas and engages the reader\n",
      "\n",
      "-Sentence Fluency and Voice\n",
      "Rhythmic and flowing language, varied sentences, and unique perspective with ideas and details to appeal to the audience\n",
      "\n",
      "-Conventions\n",
      "Mechanical and grammatical accuracy\n"
     ]
    }
   ],
   "source": [
    "print(rubric)"
   ]
  },
  {
   "cell_type": "code",
   "execution_count": 26,
   "id": "dd9edc5e-877b-4bb6-8aeb-cd413933b53b",
   "metadata": {},
   "outputs": [
    {
     "name": "stdout",
     "output_type": "stream",
     "text": [
      "\n",
      "- Ideas:\n",
      "The story idea is intriguing, but it could benefit from more specific and descriptive details. Consider incorporating more sensory details to bring this hidden world to life for the reader.\n",
      "\n",
      "- Organization:\n",
      "The story could use a clearer structure and direction. Consider starting with a brief introduction to Emmett's ordinary life before delving into his discovery of the hidden world. Also, ensure that the transitions between different scenes and moments are smooth and logical.\n",
      "\n",
      "- Word Choice:\n",
      "Work on using precise and vivid language to convey Emmett's emotions and experiences. This will help engage the reader and bring more depth to the story.\n",
      "\n",
      "- Sentence Fluency and Voice:\n",
      "Vary your sentence structure and length to create a more natural and rhythmic flow. Additionally, try to infuse the story with Emmett's unique perspective and voice, so the reader can connect with him on a deeper level.\n",
      "\n",
      "- Conventions:\n",
      "Pay attention to mechanical and grammatical accuracy to enhance the clarity and readability of the story. Proofread carefully for any errors.\n",
      "\n",
      "Overall, this is a promising start to the story. Keep developing the plot, characters, and the hidden world within Emmett's mind to captivate the reader's attention. Good luck!\n"
     ]
    }
   ],
   "source": [
    "prompt = f\"\"\"You are a helpful assistant for a student writing a story based on the following writing assignment: {writing_assignment}.\n",
    "             Use concise expression to provide constructive pointers and suggestions to help the student improve their writing.\n",
    "             Focus on the descriptors in the following rubric and reference the rubric: {rubric}. \n",
    "             The following is the student's writing: {story}\n",
    "             Avoid writing for the student.\n",
    "             \"\"\"\n",
    "\n",
    "print(llm(prompt))"
   ]
  },
  {
   "cell_type": "code",
   "execution_count": null,
   "id": "4e031670-3e55-4504-b1b3-fa171826e66d",
   "metadata": {},
   "outputs": [],
   "source": []
  },
  {
   "cell_type": "code",
   "execution_count": null,
   "id": "eea10a04-d1f7-4e50-ae2a-c6f010a85572",
   "metadata": {},
   "outputs": [],
   "source": []
  }
 ],
 "metadata": {
  "kernelspec": {
   "display_name": "storysmith",
   "language": "python",
   "name": "storysmith"
  },
  "language_info": {
   "codemirror_mode": {
    "name": "ipython",
    "version": 3
   },
   "file_extension": ".py",
   "mimetype": "text/x-python",
   "name": "python",
   "nbconvert_exporter": "python",
   "pygments_lexer": "ipython3",
   "version": "3.11.5"
  }
 },
 "nbformat": 4,
 "nbformat_minor": 5
}
